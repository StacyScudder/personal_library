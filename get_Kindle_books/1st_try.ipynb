{
 "cells": [
  {
   "cell_type": "markdown",
   "id": "88afcdd8-99eb-4b57-b5c0-408950bddf04",
   "metadata": {},
   "source": [
    "# Get a list of Kindle books\n",
    "\n",
    "I found out that a list of all the Kindle books you own can be found in an xml file. If you have the Kindle for PC app installed (sorry, not sure how to do this on a Mac), go to C:\\Users\\{user_name}AppData\\Local\\Amazon\\Kindle\\Cache and find the file named KindleSyncMetadataCache.xml. Once you have that file, open it in notepad and remove everything before the first meta_data tag (<meta_data>). Add a tag called data before the meta_data tag and then a closed data tag at the end of the file. You don't have to name it data, but you need an extra tag to be your root tag. \n",
    "\n",
    "Since I'm not sure how to read in xml files that have more than one layer of nesting, I also used Find/Replace to delete (replace them with space) the <author pronunciation = \"\"></author><publisher> and </publisher> tags. That gets everything back to one layer of nesting.\n",
    "\n",
    "On the surface, this worked. I'm concerned about any books that might have more than one author, though. I'll take a closer look at an anthology to see what happens to those. Eventually I'll figure out how to work with multiple layers and this won't be an issue."
   ]
  },
  {
   "cell_type": "code",
   "execution_count": 1,
   "id": "22cddcc9-c488-43f2-ae31-c963967100f7",
   "metadata": {
    "tags": []
   },
   "outputs": [],
   "source": [
    "import pandas as pd\n",
    "import xml.etree.ElementTree as et"
   ]
  },
  {
   "cell_type": "code",
   "execution_count": 2,
   "id": "52d1954b-7f0a-40ed-92d4-d66a8b58acea",
   "metadata": {},
   "outputs": [
    {
     "name": "stdout",
     "output_type": "stream",
     "text": [
      "<Element 'data' at 0x00000114E3D77CE0>\n"
     ]
    }
   ],
   "source": [
    "prstree = et.parse('new_KindleSyncMetadataCache.xml')\n",
    "root = prstree.getroot()\n",
    "print(root)"
   ]
  },
  {
   "cell_type": "code",
   "execution_count": 3,
   "id": "89d59fb1-5366-4f18-8bd6-1c16d0ae8400",
   "metadata": {},
   "outputs": [
    {
     "name": "stdout",
     "output_type": "stream",
     "text": [
      "Books Owned 4853\n"
     ]
    }
   ],
   "source": [
    "books = prstree.findall('meta_data')\n",
    "print('Books Owned', len(books))"
   ]
  },
  {
   "cell_type": "code",
   "execution_count": 4,
   "id": "b19ede88-69eb-4854-9942-38c3925174df",
   "metadata": {},
   "outputs": [],
   "source": [
    "book = []\n",
    "all_books = []\n",
    "  \n",
    "for meta in root.iter('meta_data'):\n",
    "    \n",
    "    ASIN = meta.attrib.get('ASIN')\n",
    "    title = meta.find('title').text\n",
    "    authors = meta.find('authors').text\n",
    "    publishers = meta.find('publishers').text\n",
    "    pub_date = meta.find('publication_date').text\n",
    "    bought = meta.find('purchase_date').text\n",
    "    t_type = meta.find('textbook_type').text\n",
    "    cde = meta.find('cde_contenttype').text\n",
    "\n",
    "    book = [ASIN, title, authors, publishers, pub_date, bought, t_type, cde]\n",
    "    all_books.append(book)"
   ]
  },
  {
   "cell_type": "code",
   "execution_count": 5,
   "id": "1d775217-723e-436c-8345-580c2e4d2fcb",
   "metadata": {},
   "outputs": [],
   "source": [
    "df = pd.DataFrame(all_books, columns=['ASIN', 'title', 'authors', 'publisher', 'pub_date', 'purchase_date', 'textbook_type', 'cde_type'])"
   ]
  },
  {
   "cell_type": "code",
   "execution_count": 6,
   "id": "c1bb282a-37a1-4850-a1cf-779f8cdd6c6b",
   "metadata": {},
   "outputs": [
    {
     "data": {
      "text/html": [
       "<div>\n",
       "<style scoped>\n",
       "    .dataframe tbody tr th:only-of-type {\n",
       "        vertical-align: middle;\n",
       "    }\n",
       "\n",
       "    .dataframe tbody tr th {\n",
       "        vertical-align: top;\n",
       "    }\n",
       "\n",
       "    .dataframe thead th {\n",
       "        text-align: right;\n",
       "    }\n",
       "</style>\n",
       "<table border=\"1\" class=\"dataframe\">\n",
       "  <thead>\n",
       "    <tr style=\"text-align: right;\">\n",
       "      <th></th>\n",
       "      <th>ASIN</th>\n",
       "      <th>title</th>\n",
       "      <th>authors</th>\n",
       "      <th>publisher</th>\n",
       "      <th>pub_date</th>\n",
       "      <th>purchase_date</th>\n",
       "      <th>textbook_type</th>\n",
       "      <th>cde_type</th>\n",
       "    </tr>\n",
       "  </thead>\n",
       "  <tbody>\n",
       "    <tr>\n",
       "      <th>0</th>\n",
       "      <td>None</td>\n",
       "      <td>mental floss presents Forbidden Knowledge: A W...</td>\n",
       "      <td>\\n\\t\\t Editors of Mental Floss \\n\\t</td>\n",
       "      <td>\\n\\t\\t William Morrow Paperbacks \\n\\t</td>\n",
       "      <td>2009-03-17T00:00:00+0000</td>\n",
       "      <td>2022-03-06T03:54:53+0000</td>\n",
       "      <td>None</td>\n",
       "      <td>EBOK</td>\n",
       "    </tr>\n",
       "    <tr>\n",
       "      <th>1</th>\n",
       "      <td>None</td>\n",
       "      <td>The Queen's Bargain (Black Jewels Book 10)</td>\n",
       "      <td>Bishop, Anne</td>\n",
       "      <td>Ace</td>\n",
       "      <td>2020-03-10T00:00:00+0000</td>\n",
       "      <td>2022-03-05T01:47:58+0000</td>\n",
       "      <td>None</td>\n",
       "      <td>EBOK</td>\n",
       "    </tr>\n",
       "    <tr>\n",
       "      <th>2</th>\n",
       "      <td>None</td>\n",
       "      <td>Shalador's Lady (Black Jewels Book 8)</td>\n",
       "      <td>Bishop, Anne</td>\n",
       "      <td>Roc</td>\n",
       "      <td>2010-01-25T00:00:00+0000</td>\n",
       "      <td>2022-03-05T01:47:04+0000</td>\n",
       "      <td>None</td>\n",
       "      <td>EBOK</td>\n",
       "    </tr>\n",
       "    <tr>\n",
       "      <th>3</th>\n",
       "      <td>None</td>\n",
       "      <td>Tangled Webs (Black Jewels Book 6)</td>\n",
       "      <td>Bishop, Anne</td>\n",
       "      <td>Roc</td>\n",
       "      <td>2008-03-04T00:00:00+0000</td>\n",
       "      <td>2022-03-05T01:42:45+0000</td>\n",
       "      <td>None</td>\n",
       "      <td>EBOK</td>\n",
       "    </tr>\n",
       "    <tr>\n",
       "      <th>4</th>\n",
       "      <td>None</td>\n",
       "      <td>The Invisible Ring (Black Jewels Book 4)</td>\n",
       "      <td>Bishop, Anne</td>\n",
       "      <td>Roc</td>\n",
       "      <td>2008-06-03T00:00:00+0000</td>\n",
       "      <td>2022-03-05T01:42:19+0000</td>\n",
       "      <td>None</td>\n",
       "      <td>EBOK</td>\n",
       "    </tr>\n",
       "  </tbody>\n",
       "</table>\n",
       "</div>"
      ],
      "text/plain": [
       "   ASIN                                              title  \\\n",
       "0  None  mental floss presents Forbidden Knowledge: A W...   \n",
       "1  None         The Queen's Bargain (Black Jewels Book 10)   \n",
       "2  None              Shalador's Lady (Black Jewels Book 8)   \n",
       "3  None                 Tangled Webs (Black Jewels Book 6)   \n",
       "4  None           The Invisible Ring (Black Jewels Book 4)   \n",
       "\n",
       "                               authors                              publisher  \\\n",
       "0  \\n\\t\\t Editors of Mental Floss \\n\\t  \\n\\t\\t William Morrow Paperbacks \\n\\t   \n",
       "1                        Bishop, Anne                                    Ace    \n",
       "2                        Bishop, Anne                                    Roc    \n",
       "3                        Bishop, Anne                                    Roc    \n",
       "4                        Bishop, Anne                                    Roc    \n",
       "\n",
       "                   pub_date             purchase_date textbook_type cde_type  \n",
       "0  2009-03-17T00:00:00+0000  2022-03-06T03:54:53+0000          None     EBOK  \n",
       "1  2020-03-10T00:00:00+0000  2022-03-05T01:47:58+0000          None     EBOK  \n",
       "2  2010-01-25T00:00:00+0000  2022-03-05T01:47:04+0000          None     EBOK  \n",
       "3  2008-03-04T00:00:00+0000  2022-03-05T01:42:45+0000          None     EBOK  \n",
       "4  2008-06-03T00:00:00+0000  2022-03-05T01:42:19+0000          None     EBOK  "
      ]
     },
     "execution_count": 6,
     "metadata": {},
     "output_type": "execute_result"
    }
   ],
   "source": [
    "df.head()"
   ]
  },
  {
   "cell_type": "code",
   "execution_count": 7,
   "id": "2e49cecc-270f-4bf1-9cee-7ac9588052f1",
   "metadata": {},
   "outputs": [
    {
     "data": {
      "text/plain": [
       "(4853, 8)"
      ]
     },
     "execution_count": 7,
     "metadata": {},
     "output_type": "execute_result"
    }
   ],
   "source": [
    "df.shape"
   ]
  },
  {
   "cell_type": "code",
   "execution_count": 12,
   "id": "81a53493-7d10-44d2-9b0c-e7faa3caeed9",
   "metadata": {},
   "outputs": [],
   "source": [
    "df.to_csv(r'../my_data/kindle.csv')"
   ]
  }
 ],
 "metadata": {
  "kernelspec": {
   "display_name": "Python 3 (ipykernel)",
   "language": "python",
   "name": "python3"
  },
  "language_info": {
   "codemirror_mode": {
    "name": "ipython",
    "version": 3
   },
   "file_extension": ".py",
   "mimetype": "text/x-python",
   "name": "python",
   "nbconvert_exporter": "python",
   "pygments_lexer": "ipython3",
   "version": "3.10.0"
  }
 },
 "nbformat": 4,
 "nbformat_minor": 5
}
